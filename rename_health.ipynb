{
 "cells": [
  {
   "cell_type": "code",
   "execution_count": 36,
   "metadata": {},
   "outputs": [
    {
     "data": {
      "text/plain": [
       "'\\nCredits:\\n\\nhttps://stackoverflow.com/questions/27243129/how-to-open-html-file\\n\\nhttps://data-make.tistory.com/171\\n\\nhttps://stackoverflow.com/questions/36634807/how-do-i-open-an-mp4-video-file-with-python\\n\\n'"
      ]
     },
     "execution_count": 36,
     "metadata": {},
     "output_type": "execute_result"
    }
   ],
   "source": [
    "\"\"\"\n",
    "\n",
    "Problem)\n",
    "    I downloaded multiple videos from a website, but their file names did not match the actual title of the video.\n",
    "\n",
    "Solution)\n",
    "    To combat this problem I\n",
    "        A. Saved the specific part of the webpage with the video titles (using Chrome DevTools) in HTML format,\n",
    "        B. Opened the HTML file in Python to retreive only the video titles, preprocessed them, and stored them in a list,\n",
    "        C. Got the list of video files, and opened them with Python, one by one, and\n",
    "        D. Manually input the index of the title that actually matched the file.\n",
    "\n",
    "\n",
    "The code consists of three parts:\n",
    "\n",
    "    1. HTML Reading\n",
    "    2. File listing\n",
    "    3. File renaming\n",
    "\n",
    "\n",
    "Credits to the following:\n",
    "\n",
    "https://stackoverflow.com/questions/27243129/how-to-open-html-file\n",
    "https://data-make.tistory.com/171\n",
    "https://stackoverflow.com/questions/36634807/how-do-i-open-an-mp4-video-file-with-python\n",
    "\n",
    "\n",
    "\"\"\""
   ]
  },
  {
   "cell_type": "code",
   "execution_count": 46,
   "metadata": {},
   "outputs": [
    {
     "name": "stdout",
     "output_type": "stream",
     "text": [
      "['4 상, 하체 안정성 웨이트 트레이닝.mp4',\n",
      " '5 전신 체지방 감량 트레이닝.mp4',\n",
      " '6 전신 parallel(평행 감각) 안정화 트레이닝.mp4',\n",
      " '7 파워 유산소 트레이닝.mp4',\n",
      " '8 복부 체지방 FAT BURN 트레이닝.mp4',\n",
      " '9 슬림 하체 프로그램.mp4',\n",
      " '10 파워힙+슬림어깨 트레이닝.mp4',\n",
      " '11 파워 스윙 코어 트레이닝.mp4',\n",
      " '12 아름다운 등 라인 만들기.mp4',\n",
      " '13 로프 트레이닝.mp4',\n",
      " '14 코어+하체 안정성 트레이닝.mp4',\n",
      " '15 슬림 핏 팔 라인 만들기.mp4',\n",
      " '16 11자 복근 만들기.mp4',\n",
      " '17 옆구리 살 제거 프로그램.mp4',\n",
      " '18 전신 밸런스+균형 향상 프로그램.mp4',\n",
      " '19 신나는 쉐이킹 FUN카디오 프로그램.mp4',\n",
      " '20 매력적인 뒤태 라인 만들기.mp4',\n",
      " '21 처진 뱃살 바로잡기.mp4',\n",
      " '22 전신 고강도 인터벌 트레이닝.mp4',\n",
      " '23 힙라인 고강도 인터벌 트레이닝.mp4',\n",
      " '24 상체 라인 고강도 인터벌 트레이닝.mp4',\n",
      " '25 유산소 고강도 인터벌 트레이닝.mp4',\n",
      " '26 탄력 있는 전신 만들기.mp4',\n",
      " '27 유산소+복부 트레이닝.mp4',\n",
      " '28 강력한 코어 만들기 프로그램.mp4',\n",
      " '29 허벅지 셀룰라이트 제거하기.mp4',\n",
      " '30  LOVE HANDLE(옆구리살제거) + 유산소 프로그램.mp4',\n",
      " '31 전신 밸런스 맞춤 프로그램.mp4']\n"
     ]
    }
   ],
   "source": [
    "# 1. HTML Reading\n",
    "\n",
    "import codecs\n",
    "from pprint import pprint as print\n",
    "f=codecs.open(\"wtb.html\", 'r')\n",
    "names = [ line[13:-10].replace(\".\",\" \").replace(\"&amp;\",\"+\")+\".mp4\" for line in f.readlines() if \"<h3>\" in line ][3:]\n",
    "#                                 this part should be edited to match your specific need                            #\n",
    "\n",
    "wb_path = \"D:/workout/waterbag/\" # file path\n",
    "\n",
    "print(names) "
   ]
  },
  {
   "cell_type": "code",
   "execution_count": 47,
   "metadata": {},
   "outputs": [
    {
     "name": "stdout",
     "output_type": "stream",
     "text": [
      "['4 상, 하체 안정성 웨이트 트레이닝.mp4',\n",
      " '5 전신 체지방 감량 트레이닝.mp4',\n",
      " '6 전신 parallel(평행 감각) 안정화 트레이닝.mp4',\n",
      " '7 파워 유산소 트레이닝.mp4',\n",
      " '8 복부 체지방 FAT BURN 트레이닝.mp4',\n",
      " '9 슬림 하체 프로그램.mp4',\n",
      " '10 파워힙+슬림어깨 트레이닝.mp4',\n",
      " '11 파워 스윙 코어 트레이닝.mp4',\n",
      " '12 아름다운 등 라인 만들기.mp4',\n",
      " '13 로프 트레이닝.mp4',\n",
      " '14 코어+하체 안정성 트레이닝.mp4',\n",
      " '15 슬림 핏 팔 라인 만들기.mp4',\n",
      " '16 11자 복근 만들기.mp4',\n",
      " '17 옆구리 살 제거 프로그램.mp4',\n",
      " '18 전신 밸런스+균형 향상 프로그램.mp4',\n",
      " '19 신나는 쉐이킹 FUN카디오 프로그램.mp4',\n",
      " '20 매력적인 뒤태 라인 만들기.mp4',\n",
      " '21 처진 뱃살 바로잡기.mp4',\n",
      " '22 전신 고강도 인터벌 트레이닝.mp4',\n",
      " '23 힙라인 고강도 인터벌 트레이닝.mp4',\n",
      " '24 상체 라인 고강도 인터벌 트레이닝.mp4',\n",
      " '25 유산소 고강도 인터벌 트레이닝.mp4',\n",
      " '26 탄력 있는 전신 만들기.mp4',\n",
      " '27 유산소+복부 트레이닝.mp4',\n",
      " '28 강력한 코어 만들기 프로그램.mp4',\n",
      " '29 허벅지 셀룰라이트 제거하기.mp4',\n",
      " '30  LOVE HANDLE(옆구리살제거) + 유산소 프로그램.mp4',\n",
      " '31 전신 밸런스 맞춤 프로그램.mp4']\n",
      "'-----All change done-----'\n"
     ]
    }
   ],
   "source": [
    "# 2. File listing + 3. File renaming\n",
    "\n",
    "from os import startfile, rename, listdir\n",
    "\n",
    "# Function to change file name\n",
    "def changeName(path, oldName, newName):\n",
    "    rename(path+oldName, path+newName)\n",
    "\n",
    "print(names)\n",
    "\n",
    "# Open up file one by one, and rename them\n",
    "for filename in listdir(wb_path):\n",
    "    startfile(wb_path+filename)\n",
    "    input(\"\\nPress enter:\\n\")\n",
    "    try:\n",
    "        newNameIdx = int(input(\"\\n\\tInput new name index:\\t\")) - 4\n",
    "        changeName(wb_path, filename, names[newNameIdx])\n",
    "        input(\"\\n\\t\\tRename successful.\\n\\n\")\n",
    "    except:\n",
    "        input(\"\\n\\t\\tRenaming canceled/unsuccessful.\\n\\n\") \n",
    "\n",
    "print(\"-\"*5+\"All change done\"+\"-\"*5)\n",
    "\n"
   ]
  },
  {
   "cell_type": "code",
   "execution_count": null,
   "metadata": {},
   "outputs": [],
   "source": []
  }
 ],
 "metadata": {
  "interpreter": {
   "hash": "84e076b3125d4fb85b59c1b398027d6262c69d643e35ed42706ef60b866c0ca4"
  },
  "kernelspec": {
   "display_name": "Python 3.9.4 64-bit",
   "language": "python",
   "name": "python3"
  },
  "language_info": {
   "codemirror_mode": {
    "name": "ipython",
    "version": 3
   },
   "file_extension": ".py",
   "mimetype": "text/x-python",
   "name": "python",
   "nbconvert_exporter": "python",
   "pygments_lexer": "ipython3",
   "version": "3.9.4"
  },
  "orig_nbformat": 4
 },
 "nbformat": 4,
 "nbformat_minor": 2
}
