{
  "cells": [
    {
      "cell_type": "code",
      "execution_count": null,
      "metadata": {
        "id": "P47Sri3iFczC"
      },
      "outputs": [],
      "source": [
        "\"\"\"\n",
        "\n",
        "Problem)\n",
        "    I downloaded multiple videos from a website, but their file names did not match the actual title of the video.\n",
        "\n",
        "Solution)\n",
        "    To combat this problem I\n",
        "        A. Saved the specific part of the webpage with the video titles (using Chrome DevTools) in HTML format,\n",
        "        B. Opened the HTML file in Python to retreive only the video titles, preprocessed them, and stored them in a list,\n",
        "        C. Got the list of video files, and opened them with Python, one by one, and\n",
        "        D. Manually input the index of the title that actually matched the file.\n",
        "\n",
        "\n",
        "The code consists of three parts:\n",
        "\n",
        "    1. HTML Reading\n",
        "    2. File listing\n",
        "    3. File renaming\n",
        "\n",
        "\n",
        "Credits to the following:\n",
        "\n",
        "https://stackoverflow.com/questions/27243129/how-to-open-html-file\n",
        "https://data-make.tistory.com/171\n",
        "https://stackoverflow.com/questions/36634807/how-do-i-open-an-mp4-video-file-with-python\n",
        "\n",
        "\n",
        "\"\"\""
      ]
    },
    {
      "cell_type": "code",
      "execution_count": null,
      "metadata": {
        "id": "pjC-26IXFczD"
      },
      "outputs": [],
      "source": [
        "# 1. HTML Reading\n",
        "\n",
        "import codecs\n",
        "from pprint import pprint as print\n",
        "f=codecs.open(\"wtb.html\", 'r')\n",
        "names = [ line[13:-10].replace(\".\",\" \").replace(\"&amp;\",\"+\")+\".mp4\" for line in f.readlines() if \"<h3>\" in line ][3:]\n",
        "#                                 this part should be edited to match your specific need                            #\n",
        "\n",
        "wb_path = \"D:/workout/waterbag/\" # file path\n",
        "\n",
        "print(names) "
      ]
    },
    {
      "cell_type": "code",
      "execution_count": null,
      "metadata": {
        "id": "KASj3wHKFczD"
      },
      "outputs": [],
      "source": [
        "# 2. File listing + 3. File renaming\n",
        "\n",
        "from os import startfile, rename, listdir\n",
        "\n",
        "# Function to change file name\n",
        "def changeName(path, oldName, newName):\n",
        "    rename(path+oldName, path+newName)\n",
        "\n",
        "print(names)\n",
        "\n",
        "# Open up file one by one, and rename them\n",
        "for filename in listdir(wb_path):\n",
        "    startfile(wb_path+filename)\n",
        "    input(\"\\nPress enter:\\n\")\n",
        "    try:\n",
        "        newNameIdx = int(input(\"\\n\\tInput new name index:\\t\")) - 4\n",
        "        changeName(wb_path, filename, names[newNameIdx])\n",
        "        input(\"\\n\\t\\tRename successful.\\n\\n\")\n",
        "    except:\n",
        "        input(\"\\n\\t\\tRenaming canceled/unsuccessful.\\n\\n\") \n",
        "\n",
        "print(\"-\"*5+\"All change done\"+\"-\"*5)\n",
        "\n"
      ]
    },
    {
      "cell_type": "code",
      "execution_count": null,
      "metadata": {
        "id": "3y6Iu-l0FczE"
      },
      "outputs": [],
      "source": [
        ""
      ]
    }
  ],
  "metadata": {
    "interpreter": {
      "hash": "84e076b3125d4fb85b59c1b398027d6262c69d643e35ed42706ef60b866c0ca4"
    },
    "kernelspec": {
      "display_name": "Python 3.9.4 64-bit",
      "language": "python",
      "name": "python3"
    },
    "language_info": {
      "codemirror_mode": {
        "name": "ipython",
        "version": 3
      },
      "file_extension": ".py",
      "mimetype": "text/x-python",
      "name": "python",
      "nbconvert_exporter": "python",
      "pygments_lexer": "ipython3",
      "version": "3.9.4"
    },
    "orig_nbformat": 4,
    "colab": {
      "name": "rename_health.ipynb",
      "provenance": []
    }
  },
  "nbformat": 4,
  "nbformat_minor": 0
}